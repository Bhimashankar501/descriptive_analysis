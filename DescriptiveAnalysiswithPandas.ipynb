{
 "cells": [
  {
   "cell_type": "code",
   "execution_count": 1,
   "id": "72656f8e-b054-4f8e-8a15-6cc6ff5c7fe9",
   "metadata": {},
   "outputs": [
    {
     "data": {
      "text/html": [
       "<div>\n",
       "<style scoped>\n",
       "    .dataframe tbody tr th:only-of-type {\n",
       "        vertical-align: middle;\n",
       "    }\n",
       "\n",
       "    .dataframe tbody tr th {\n",
       "        vertical-align: top;\n",
       "    }\n",
       "\n",
       "    .dataframe thead th {\n",
       "        text-align: right;\n",
       "    }\n",
       "</style>\n",
       "<table border=\"1\" class=\"dataframe\">\n",
       "  <thead>\n",
       "    <tr style=\"text-align: right;\">\n",
       "      <th></th>\n",
       "      <th>StudentID</th>\n",
       "      <th>FirstName</th>\n",
       "      <th>LastName</th>\n",
       "      <th>sex</th>\n",
       "      <th>DateOfBirth</th>\n",
       "      <th>Phone</th>\n",
       "      <th>Address</th>\n",
       "      <th>City</th>\n",
       "      <th>age</th>\n",
       "    </tr>\n",
       "  </thead>\n",
       "  <tbody>\n",
       "    <tr>\n",
       "      <th>0</th>\n",
       "      <td>10001</td>\n",
       "      <td>A</td>\n",
       "      <td>jeo</td>\n",
       "      <td>M</td>\n",
       "      <td>5/14/2003</td>\n",
       "      <td>5554567</td>\n",
       "      <td>123</td>\n",
       "      <td>USA</td>\n",
       "      <td>23.0</td>\n",
       "    </tr>\n",
       "    <tr>\n",
       "      <th>1</th>\n",
       "      <td>10002</td>\n",
       "      <td>B</td>\n",
       "      <td>PATIL</td>\n",
       "      <td>F</td>\n",
       "      <td>5/15/2003</td>\n",
       "      <td>5554568</td>\n",
       "      <td>124</td>\n",
       "      <td>HSS</td>\n",
       "      <td>434.0</td>\n",
       "    </tr>\n",
       "    <tr>\n",
       "      <th>2</th>\n",
       "      <td>10003</td>\n",
       "      <td>C</td>\n",
       "      <td>MALLA</td>\n",
       "      <td>M</td>\n",
       "      <td>5/16/2003</td>\n",
       "      <td>5554569</td>\n",
       "      <td>125</td>\n",
       "      <td>SIG</td>\n",
       "      <td>54.0</td>\n",
       "    </tr>\n",
       "    <tr>\n",
       "      <th>3</th>\n",
       "      <td>10004</td>\n",
       "      <td>D</td>\n",
       "      <td>REDDY</td>\n",
       "      <td>F</td>\n",
       "      <td>5/17/2003</td>\n",
       "      <td>5554570</td>\n",
       "      <td>126</td>\n",
       "      <td>USA</td>\n",
       "      <td>44.0</td>\n",
       "    </tr>\n",
       "    <tr>\n",
       "      <th>4</th>\n",
       "      <td>10005</td>\n",
       "      <td>E</td>\n",
       "      <td>JEO</td>\n",
       "      <td>M</td>\n",
       "      <td>5/18/2003</td>\n",
       "      <td>5554571</td>\n",
       "      <td>127</td>\n",
       "      <td>USA</td>\n",
       "      <td>23.0</td>\n",
       "    </tr>\n",
       "  </tbody>\n",
       "</table>\n",
       "</div>"
      ],
      "text/plain": [
       "   StudentID FirstName LastName sex DateOfBirth    Phone  Address City    age\n",
       "0      10001         A      jeo   M   5/14/2003  5554567      123  USA   23.0\n",
       "1      10002         B    PATIL   F   5/15/2003  5554568      124  HSS  434.0\n",
       "2      10003         C    MALLA   M   5/16/2003  5554569      125  SIG   54.0\n",
       "3      10004         D    REDDY   F   5/17/2003  5554570      126  USA   44.0\n",
       "4      10005         E      JEO   M   5/18/2003  5554571      127  USA   23.0"
      ]
     },
     "execution_count": 1,
     "metadata": {},
     "output_type": "execute_result"
    }
   ],
   "source": [
    "import numpy as np\n",
    "import pandas as pd\n",
    "\n",
    "titanic = pd.read_csv(r\"C:\\Users\\user\\OneDrive\\Desktop\\jupyter2\\Descriptive Analysis with Pandas using this topic\\employeedetails.csv\")\n",
    "titanic.head()\n"
   ]
  },
  {
   "cell_type": "code",
   "execution_count": 2,
   "id": "9e353fcc-3e1f-4140-9de8-10c39c1d082c",
   "metadata": {},
   "outputs": [
    {
     "name": "stdout",
     "output_type": "stream",
     "text": [
      "   StudentID FirstName LastName sex DateOfBirth    Phone  Address City    age\n",
      "0      10001         A      jeo   M   5/14/2003  5554567      123  USA   23.0\n",
      "1      10002         B    PATIL   F   5/15/2003  5554568      124  HSS  434.0\n",
      "2      10003         C    MALLA   M   5/16/2003  5554569      125  SIG   54.0\n",
      "3      10004         D    REDDY   F   5/17/2003  5554570      126  USA   44.0\n",
      "4      10005         E      JEO   M   5/18/2003  5554571      127  USA   23.0\n"
     ]
    }
   ],
   "source": [
    "#quick look at the data\n",
    "print(titanic.head())"
   ]
  },
  {
   "cell_type": "code",
   "execution_count": 6,
   "id": "6249259c-323d-4f71-843b-a15e3d5d390a",
   "metadata": {},
   "outputs": [
    {
     "name": "stdout",
     "output_type": "stream",
     "text": [
      "     count    mean          std   min   25%    50%    75%     max\n",
      "sex                                                              \n",
      "F      5.0  1019.6  1864.796852  44.0  45.0  232.0  434.0  4343.0\n",
      "M     15.0    46.4    20.835409  14.0  33.0   45.0   55.5    98.0\n"
     ]
    }
   ],
   "source": [
    "# Basic age statistics grouped by sex\n",
    "print(titanic.groupby(\"sex\")[\"age\"].describe())"
   ]
  },
  {
   "cell_type": "code",
   "execution_count": 4,
   "id": "082e7349-ead1-42f1-8408-35e125628fe6",
   "metadata": {},
   "outputs": [
    {
     "name": "stderr",
     "output_type": "stream",
     "text": [
      "C:\\Users\\user\\AppData\\Local\\Temp\\ipykernel_16748\\770144177.py:17: UserWarning: No artists with labels found to put in legend.  Note that artists whose label start with an underscore are ignored when legend() is called with no argument.\n",
      "  plt.legend(title=\"Gender\")\n"
     ]
    },
    {
     "data": {
      "image/png": "[encoded data removed]",
      "text/plain": [
       "<Figure size 1000x600 with 1 Axes>"
      ]
     },
     "metadata": {},
     "output_type": "display_data"
    }
   ],
   "source": [
    "import pandas as pd\n",
    "import seaborn as sns\n",
    "import matplotlib.pyplot as plt\n",
    "\n",
    "#Load the Titanic dataset from seaborn\n",
    "titanic = sns.load_dataset('titanic')\n",
    "\n",
    "#Drop missing values from the 'age' column\n",
    "titanic = titanic.dropna(subset=['age'])\n",
    "\n",
    "#Now plot\n",
    "plt.figure(figsize=(10, 6))\n",
    "sns.histplot(data=titanic, x=\"age\", hue=\"sex\", bins=30, kde=False, palette=\"Set2\", multiple=\"stack\")\n",
    "plt.title(\"Age Distribution of Titanic Passengers by Gender\")\n",
    "plt.xlabel(\"Age\")\n",
    "plt.ylabel(\"Count\")\n",
    "plt.legend(title=\"Gender\")\n",
    "plt.show()\n"
   ]
  },
  {
   "cell_type": "code",
   "execution_count": 8,
   "id": "3ae8ac62-b3f7-41ec-802c-442931a08837",
   "metadata": {},
   "outputs": [
    {
     "name": "stdout",
     "output_type": "stream",
     "text": [
      "     age sex\n",
      "0   23.0   M\n",
      "1  434.0   F\n",
      "2   54.0   M\n",
      "3   44.0   F\n",
      "4   23.0   M\n"
     ]
    }
   ],
   "source": [
    "import seaborn as sns\n",
    "import pandas as pd\n",
    "titanic = pd.read_csv(r\"C:\\Users\\user\\OneDrive\\Desktop\\jupyter2\\Descriptive Analysis with Pandas using this topic\\employeedetails.csv\")\n",
    "titanic_age_sex = titanic[['age', 'sex']]\n",
    "print(titanic_age_sex.head())"
   ]
  },
  {
   "cell_type": "code",
   "execution_count": null,
   "id": "5cb4da9d-15e5-44c8-a4d0-cd9d42eba57a",
   "metadata": {},
   "outputs": [],
   "source": []
  }
 ],
 "metadata": {
  "kernelspec": {
   "display_name": "Python 3 (ipykernel)",
   "language": "python",
   "name": "python3"
  },
  "language_info": {
   "codemirror_mode": {
    "name": "ipython",
    "version": 3
   },
   "file_extension": ".py",
   "mimetype": "text/x-python",
   "name": "python",
   "nbconvert_exporter": "python",
   "pygments_lexer": "ipython3",
   "version": "3.13.7"
  }
 },
 "nbformat": 4,
 "nbformat_minor": 5
}
